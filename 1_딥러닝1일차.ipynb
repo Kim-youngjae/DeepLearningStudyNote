{
 "cells": [
  {
   "cell_type": "code",
   "execution_count": 1,
   "id": "horizontal-personal",
   "metadata": {},
   "outputs": [
    {
     "name": "stdout",
     "output_type": "stream",
     "text": [
      "tf.Tensor(-295.67038, shape=(), dtype=float32)\n"
     ]
    }
   ],
   "source": [
    "import tensorflow as tf\n",
    "print(tf.reduce_sum(tf.random.normal([1000, 1000])))"
   ]
  },
  {
   "cell_type": "markdown",
   "id": "informed-thesis",
   "metadata": {},
   "source": [
    "기본적으로 머신러닝에서는 tensor라는게 기본적으로 쓰인다\n",
    "\n",
    "텐서는 데이터를 다루기 위한 컨테이너(임의의 차원의 개수)"
   ]
  },
  {
   "cell_type": "markdown",
   "id": "focal-respect",
   "metadata": {},
   "source": [
    "리스트끼리는 연산이 안된다. 그룹간의 연산이 되지 않아서 numpy를 사용한다"
   ]
  },
  {
   "cell_type": "code",
   "execution_count": 2,
   "id": "broad-brighton",
   "metadata": {},
   "outputs": [],
   "source": [
    "import numpy as np\n",
    "\n",
    "x = np.array([12])"
   ]
  },
  {
   "cell_type": "markdown",
   "id": "musical-organizer",
   "metadata": {},
   "source": [
    "[] 괄호를 늘리면 차원이 추가된다\n",
    "\n",
    "[]의 갯수 당 표현할 수 있는 속성의 갯수가 정해진다"
   ]
  },
  {
   "cell_type": "code",
   "execution_count": 3,
   "id": "conditional-executive",
   "metadata": {},
   "outputs": [
    {
     "name": "stdout",
     "output_type": "stream",
     "text": [
      "[12]\n",
      "1\n"
     ]
    }
   ],
   "source": [
    "print(x) # 하나의 점이다\n",
    "print(x.ndim)"
   ]
  },
  {
   "cell_type": "code",
   "execution_count": 4,
   "id": "published-lewis",
   "metadata": {},
   "outputs": [
    {
     "name": "stdout",
     "output_type": "stream",
     "text": [
      "[[12 13 14]\n",
      " [15 16 17]\n",
      " [18 19 20]]\n",
      "2\n"
     ]
    }
   ],
   "source": [
    "x = np.array([[12, 13, 14],\n",
    "             [15, 16, 17],\n",
    "             [18, 19, 20]])\n",
    "print(x)\n",
    "print(x.ndim)"
   ]
  },
  {
   "cell_type": "code",
   "execution_count": 5,
   "id": "postal-fruit",
   "metadata": {},
   "outputs": [
    {
     "name": "stdout",
     "output_type": "stream",
     "text": [
      "[[[12 13 14]\n",
      "  [15 16 17]\n",
      "  [18 19 20]]\n",
      "\n",
      " [[12 13 14]\n",
      "  [15 16 17]\n",
      "  [18 19 20]]]\n",
      "3\n"
     ]
    }
   ],
   "source": [
    "x = np.array([[[12, 13, 14],\n",
    "             [15, 16, 17],\n",
    "             [18, 19, 20]],\n",
    "             [[12, 13, 14],\n",
    "             [15, 16, 17],\n",
    "             [18, 19, 20]]])\n",
    "print(x)\n",
    "print(x.ndim)"
   ]
  },
  {
   "cell_type": "code",
   "execution_count": 6,
   "id": "surrounded-diameter",
   "metadata": {},
   "outputs": [],
   "source": [
    "from tensorflow import keras\n",
    "\n",
    "from tensorflow.keras.datasets import mnist"
   ]
  },
  {
   "cell_type": "code",
   "execution_count": 7,
   "id": "distant-buyer",
   "metadata": {},
   "outputs": [],
   "source": [
    "(train_images, train_labels), (test_images, test_labels) = mnist.load_data()"
   ]
  },
  {
   "cell_type": "code",
   "execution_count": 8,
   "id": "desperate-celebrity",
   "metadata": {
    "scrolled": true
   },
   "outputs": [
    {
     "name": "stdout",
     "output_type": "stream",
     "text": [
      "[[[0 0 0 ... 0 0 0]\n",
      "  [0 0 0 ... 0 0 0]\n",
      "  [0 0 0 ... 0 0 0]\n",
      "  ...\n",
      "  [0 0 0 ... 0 0 0]\n",
      "  [0 0 0 ... 0 0 0]\n",
      "  [0 0 0 ... 0 0 0]]\n",
      "\n",
      " [[0 0 0 ... 0 0 0]\n",
      "  [0 0 0 ... 0 0 0]\n",
      "  [0 0 0 ... 0 0 0]\n",
      "  ...\n",
      "  [0 0 0 ... 0 0 0]\n",
      "  [0 0 0 ... 0 0 0]\n",
      "  [0 0 0 ... 0 0 0]]\n",
      "\n",
      " [[0 0 0 ... 0 0 0]\n",
      "  [0 0 0 ... 0 0 0]\n",
      "  [0 0 0 ... 0 0 0]\n",
      "  ...\n",
      "  [0 0 0 ... 0 0 0]\n",
      "  [0 0 0 ... 0 0 0]\n",
      "  [0 0 0 ... 0 0 0]]\n",
      "\n",
      " ...\n",
      "\n",
      " [[0 0 0 ... 0 0 0]\n",
      "  [0 0 0 ... 0 0 0]\n",
      "  [0 0 0 ... 0 0 0]\n",
      "  ...\n",
      "  [0 0 0 ... 0 0 0]\n",
      "  [0 0 0 ... 0 0 0]\n",
      "  [0 0 0 ... 0 0 0]]\n",
      "\n",
      " [[0 0 0 ... 0 0 0]\n",
      "  [0 0 0 ... 0 0 0]\n",
      "  [0 0 0 ... 0 0 0]\n",
      "  ...\n",
      "  [0 0 0 ... 0 0 0]\n",
      "  [0 0 0 ... 0 0 0]\n",
      "  [0 0 0 ... 0 0 0]]\n",
      "\n",
      " [[0 0 0 ... 0 0 0]\n",
      "  [0 0 0 ... 0 0 0]\n",
      "  [0 0 0 ... 0 0 0]\n",
      "  ...\n",
      "  [0 0 0 ... 0 0 0]\n",
      "  [0 0 0 ... 0 0 0]\n",
      "  [0 0 0 ... 0 0 0]]]\n"
     ]
    }
   ],
   "source": [
    "print(train_images)"
   ]
  },
  {
   "cell_type": "code",
   "execution_count": 9,
   "id": "protective-style",
   "metadata": {},
   "outputs": [
    {
     "name": "stdout",
     "output_type": "stream",
     "text": [
      "3\n"
     ]
    },
    {
     "data": {
      "text/plain": [
       "dtype('uint8')"
      ]
     },
     "execution_count": 9,
     "metadata": {},
     "output_type": "execute_result"
    }
   ],
   "source": [
    "print(train_images.ndim)\n",
    "train_images.dtype"
   ]
  },
  {
   "cell_type": "code",
   "execution_count": 10,
   "id": "spoken-violation",
   "metadata": {},
   "outputs": [
    {
     "data": {
      "text/plain": [
       "(60000, 28, 28)"
      ]
     },
     "execution_count": 10,
     "metadata": {},
     "output_type": "execute_result"
    }
   ],
   "source": [
    "train_images.shape "
   ]
  },
  {
   "cell_type": "code",
   "execution_count": 11,
   "id": "outdoor-salvation",
   "metadata": {},
   "outputs": [],
   "source": [
    "digit = train_images[4]"
   ]
  },
  {
   "cell_type": "code",
   "execution_count": 12,
   "id": "diagnostic-check",
   "metadata": {},
   "outputs": [
    {
     "data": {
      "text/plain": [
       "<matplotlib.image.AxesImage at 0x158f337b8b0>"
      ]
     },
     "execution_count": 12,
     "metadata": {},
     "output_type": "execute_result"
    },
    {
     "data": {
      "image/png": "[encoded data removed]",
      "text/plain": [
       "<Figure size 432x288 with 1 Axes>"
      ]
     },
     "metadata": {
      "needs_background": "light"
     },
     "output_type": "display_data"
    }
   ],
   "source": [
    "import matplotlib.pyplot as plt\n",
    "plt.imshow(digit, cmap='gray')"
   ]
  },
  {
   "cell_type": "code",
   "execution_count": 13,
   "id": "arctic-holder",
   "metadata": {},
   "outputs": [],
   "source": [
    "my_slice = train_images[:100]"
   ]
  },
  {
   "cell_type": "code",
   "execution_count": 14,
   "id": "naughty-compromise",
   "metadata": {},
   "outputs": [
    {
     "data": {
      "text/plain": [
       "(100, 28, 28)"
      ]
     },
     "execution_count": 14,
     "metadata": {},
     "output_type": "execute_result"
    }
   ],
   "source": [
    "my_slice.shape"
   ]
  },
  {
   "cell_type": "code",
   "execution_count": 15,
   "id": "composite-constitution",
   "metadata": {},
   "outputs": [
    {
     "data": {
      "text/plain": [
       "(100, 14, 14)"
      ]
     },
     "execution_count": 15,
     "metadata": {},
     "output_type": "execute_result"
    }
   ],
   "source": [
    "my_slice[:100, 14:, 14:].shape"
   ]
  },
  {
   "cell_type": "code",
   "execution_count": 16,
   "id": "further-westminster",
   "metadata": {},
   "outputs": [
    {
     "data": {
      "text/plain": [
       "<matplotlib.image.AxesImage at 0x158f346f310>"
      ]
     },
     "execution_count": 16,
     "metadata": {},
     "output_type": "execute_result"
    },
    {
     "data": {
      "image/png": "[encoded data removed]",
      "text/plain": [
       "<Figure size 432x288 with 1 Axes>"
      ]
     },
     "metadata": {
      "needs_background": "light"
     },
     "output_type": "display_data"
    }
   ],
   "source": [
    "my_slice = train_images[:, 14:, 14:]\n",
    "plt.imshow(my_slice[4], cmap='gray')"
   ]
  },
  {
   "cell_type": "markdown",
   "id": "metropolitan-accounting",
   "metadata": {},
   "source": [
    "# 배치 데이터"
   ]
  },
  {
   "cell_type": "code",
   "execution_count": 17,
   "id": "effective-nylon",
   "metadata": {},
   "outputs": [],
   "source": [
    "batch = train_images[:128] # 크기가 128인 배치데이터"
   ]
  },
  {
   "cell_type": "code",
   "execution_count": 18,
   "id": "stuck-utilization",
   "metadata": {},
   "outputs": [],
   "source": [
    "batch = train_images[128:256]"
   ]
  },
  {
   "cell_type": "code",
   "execution_count": 19,
   "id": "monetary-track",
   "metadata": {},
   "outputs": [],
   "source": [
    "# n번째 배치\n",
    "n = 3\n",
    "batch = train_images[128*n:128*(n+1)]\n",
    "\n",
    "# 딥러닝에 사용하는 모든 텐서들의 첫번째 축은 샘플 데이터(샘플 차원이다)이다\n",
    "# 배치를 왜하는건가 --> 한번에 처리하기에는 용량과 시간의 제한 때문에 작은 배치 사이즈로 나누어 계산한다"
   ]
  },
  {
   "cell_type": "markdown",
   "id": "little-heath",
   "metadata": {},
   "source": [
    "# 2차원: 벡터 데이터\n",
    "__`(samples, features)`__\n",
    "\n",
    "# 3차원: 시계열 데이터, sequence data\n",
    "__`(smaples, timestamps, features)`__\n",
    "\n",
    "# 4차원:  영상 데이터\n",
    "__`(samples, height, width, channels)` channels --> layer의 갯수__  텐서 플로우에서 쓰는 방법\n",
    "\n",
    "__`(samples, channels, height, width)`__ pytorch, theano에서 쓰는 방법\n",
    "\n",
    "# 5차원: 동영상\n",
    "__`(samples, frames, height, width, channels)`__"
   ]
  },
  {
   "cell_type": "markdown",
   "id": "controversial-platform",
   "metadata": {},
   "source": [
    "# 회귀 분석 연습"
   ]
  },
  {
   "cell_type": "code",
   "execution_count": 20,
   "id": "vocal-diving",
   "metadata": {},
   "outputs": [],
   "source": [
    "from tensorflow.keras.models import Sequential\n",
    "from tensorflow.keras.layers import Dense\n",
    "from tensorflow.keras import optimizers\n",
    "import numpy as np\n",
    "\n",
    "study_time = np.array([1, 2, 3, 4, 5, 6]) # 6개의 x데이터\n",
    "score = np.array([10, 21, 30, 40, 51, 60]) # 6개의 y데이터"
   ]
  },
  {
   "cell_type": "code",
   "execution_count": 21,
   "id": "automotive-dubai",
   "metadata": {},
   "outputs": [],
   "source": [
    "model = Sequential()\n",
    "# Dense: 입력값과 출력값을 연결해줌\n",
    "model.add(Dense(1, input_dim=1, activation='linear'))"
   ]
  },
  {
   "cell_type": "code",
   "execution_count": 22,
   "id": "sized-campus",
   "metadata": {},
   "outputs": [],
   "source": [
    "sgd = optimizers.SGD(learning_rate=0.01) # learning_rate: 학습률 SGD: 경사하강법의 종류\n",
    "model.compile(optimizer=sgd, loss='mse', metrics=['accuracy']) "
   ]
  },
  {
   "cell_type": "code",
   "execution_count": 23,
   "id": "heavy-guess",
   "metadata": {},
   "outputs": [
    {
     "name": "stdout",
     "output_type": "stream",
     "text": [
      "Epoch 1/100\n",
      "6/6 [==============================] - 0s 3ms/step - loss: 499.9854 - accuracy: 0.0000e+00\n",
      "Epoch 2/100\n",
      "6/6 [==============================] - 0s 3ms/step - loss: 2.3814 - accuracy: 0.0000e+00\n",
      "Epoch 3/100\n",
      "6/6 [==============================] - 0s 3ms/step - loss: 1.3759 - accuracy: 0.0000e+00\n",
      "Epoch 4/100\n",
      "6/6 [==============================] - 0s 3ms/step - loss: 1.3659 - accuracy: 0.0000e+00\n",
      "Epoch 5/100\n",
      "6/6 [==============================] - 0s 3ms/step - loss: 1.3221 - accuracy: 0.0000e+00\n",
      "Epoch 6/100\n",
      "6/6 [==============================] - 0s 3ms/step - loss: 1.2781 - accuracy: 0.0000e+00\n",
      "Epoch 7/100\n",
      "6/6 [==============================] - 0s 3ms/step - loss: 1.2359 - accuracy: 0.0000e+00\n",
      "Epoch 8/100\n",
      "6/6 [==============================] - 0s 3ms/step - loss: 1.1956 - accuracy: 0.0000e+00\n",
      "Epoch 9/100\n",
      "6/6 [==============================] - 0s 3ms/step - loss: 1.1572 - accuracy: 0.0000e+00\n",
      "Epoch 10/100\n",
      "6/6 [==============================] - 0s 3ms/step - loss: 1.1204 - accuracy: 0.0000e+00\n",
      "Epoch 11/100\n",
      "6/6 [==============================] - 0s 3ms/step - loss: 1.0853 - accuracy: 0.0000e+00\n",
      "Epoch 12/100\n",
      "6/6 [==============================] - 0s 3ms/step - loss: 1.0518 - accuracy: 0.0000e+00\n",
      "Epoch 13/100\n",
      "6/6 [==============================] - 0s 3ms/step - loss: 1.0198 - accuracy: 0.0000e+00\n",
      "Epoch 14/100\n",
      "6/6 [==============================] - 0s 3ms/step - loss: 0.9893 - accuracy: 0.0000e+00\n",
      "Epoch 15/100\n",
      "6/6 [==============================] - 0s 2ms/step - loss: 0.9601 - accuracy: 0.0000e+00\n",
      "Epoch 16/100\n",
      "6/6 [==============================] - 0s 3ms/step - loss: 0.9322 - accuracy: 0.0000e+00\n",
      "Epoch 17/100\n",
      "6/6 [==============================] - 0s 3ms/step - loss: 0.9056 - accuracy: 0.0000e+00\n",
      "Epoch 18/100\n",
      "6/6 [==============================] - 0s 3ms/step - loss: 0.8802 - accuracy: 0.0000e+00\n",
      "Epoch 19/100\n",
      "6/6 [==============================] - 0s 3ms/step - loss: 0.8559 - accuracy: 0.0000e+00\n",
      "Epoch 20/100\n",
      "6/6 [==============================] - 0s 2ms/step - loss: 0.8327 - accuracy: 0.0000e+00\n",
      "Epoch 21/100\n",
      "6/6 [==============================] - 0s 3ms/step - loss: 0.8105 - accuracy: 0.0000e+00\n",
      "Epoch 22/100\n",
      "6/6 [==============================] - 0s 3ms/step - loss: 0.7894 - accuracy: 0.0000e+00\n",
      "Epoch 23/100\n",
      "6/6 [==============================] - 0s 2ms/step - loss: 0.7692 - accuracy: 0.0000e+00\n",
      "Epoch 24/100\n",
      "6/6 [==============================] - 0s 3ms/step - loss: 0.7499 - accuracy: 0.0000e+00\n",
      "Epoch 25/100\n",
      "6/6 [==============================] - 0s 3ms/step - loss: 0.7314 - accuracy: 0.0000e+00\n",
      "Epoch 26/100\n",
      "6/6 [==============================] - 0s 3ms/step - loss: 0.7138 - accuracy: 0.0000e+00\n",
      "Epoch 27/100\n",
      "6/6 [==============================] - 0s 3ms/step - loss: 0.6970 - accuracy: 0.0000e+00\n",
      "Epoch 28/100\n",
      "6/6 [==============================] - 0s 3ms/step - loss: 0.6809 - accuracy: 0.0000e+00\n",
      "Epoch 29/100\n",
      "6/6 [==============================] - 0s 2ms/step - loss: 0.6655 - accuracy: 0.0000e+00\n",
      "Epoch 30/100\n",
      "6/6 [==============================] - 0s 2ms/step - loss: 0.6509 - accuracy: 0.0000e+00\n",
      "Epoch 31/100\n",
      "6/6 [==============================] - 0s 3ms/step - loss: 0.6369 - accuracy: 0.0000e+00\n",
      "Epoch 32/100\n",
      "6/6 [==============================] - 0s 2ms/step - loss: 0.6235 - accuracy: 0.0000e+00\n",
      "Epoch 33/100\n",
      "6/6 [==============================] - 0s 2ms/step - loss: 0.6107 - accuracy: 0.0000e+00\n",
      "Epoch 34/100\n",
      "6/6 [==============================] - 0s 2ms/step - loss: 0.5984 - accuracy: 0.0000e+00\n",
      "Epoch 35/100\n",
      "6/6 [==============================] - 0s 2ms/step - loss: 0.5868 - accuracy: 0.0000e+00\n",
      "Epoch 36/100\n",
      "6/6 [==============================] - 0s 3ms/step - loss: 0.5756 - accuracy: 0.0000e+00\n",
      "Epoch 37/100\n",
      "6/6 [==============================] - 0s 3ms/step - loss: 0.5649 - accuracy: 0.0000e+00\n",
      "Epoch 38/100\n",
      "6/6 [==============================] - 0s 2ms/step - loss: 0.5548 - accuracy: 0.0000e+00\n",
      "Epoch 39/100\n",
      "6/6 [==============================] - 0s 3ms/step - loss: 0.5450 - accuracy: 0.0000e+00\n",
      "Epoch 40/100\n",
      "6/6 [==============================] - 0s 2ms/step - loss: 0.5357 - accuracy: 0.0000e+00\n",
      "Epoch 41/100\n",
      "6/6 [==============================] - 0s 2ms/step - loss: 0.5268 - accuracy: 0.0000e+00\n",
      "Epoch 42/100\n",
      "6/6 [==============================] - 0s 2ms/step - loss: 0.5183 - accuracy: 0.0000e+00\n",
      "Epoch 43/100\n",
      "6/6 [==============================] - 0s 3ms/step - loss: 0.5102 - accuracy: 0.0000e+00\n",
      "Epoch 44/100\n",
      "6/6 [==============================] - 0s 2ms/step - loss: 0.5024 - accuracy: 0.0000e+00\n",
      "Epoch 45/100\n",
      "6/6 [==============================] - 0s 3ms/step - loss: 0.4950 - accuracy: 0.0000e+00\n",
      "Epoch 46/100\n",
      "6/6 [==============================] - 0s 2ms/step - loss: 0.4879 - accuracy: 0.0000e+00\n",
      "Epoch 47/100\n",
      "6/6 [==============================] - 0s 2ms/step - loss: 0.4811 - accuracy: 0.0000e+00\n",
      "Epoch 48/100\n",
      "6/6 [==============================] - 0s 3ms/step - loss: 0.4747 - accuracy: 0.0000e+00\n",
      "Epoch 49/100\n",
      "6/6 [==============================] - 0s 2ms/step - loss: 0.4685 - accuracy: 0.0000e+00\n",
      "Epoch 50/100\n",
      "6/6 [==============================] - 0s 2ms/step - loss: 0.4626 - accuracy: 0.0000e+00\n",
      "Epoch 51/100\n",
      "6/6 [==============================] - 0s 2ms/step - loss: 0.4569 - accuracy: 0.0000e+00\n",
      "Epoch 52/100\n",
      "6/6 [==============================] - 0s 2ms/step - loss: 0.4515 - accuracy: 0.0000e+00\n",
      "Epoch 53/100\n",
      "6/6 [==============================] - 0s 2ms/step - loss: 0.4463 - accuracy: 0.0000e+00\n",
      "Epoch 54/100\n",
      "6/6 [==============================] - 0s 2ms/step - loss: 0.4414 - accuracy: 0.0000e+00\n",
      "Epoch 55/100\n",
      "6/6 [==============================] - 0s 2ms/step - loss: 0.4366 - accuracy: 0.0000e+00\n",
      "Epoch 56/100\n",
      "6/6 [==============================] - 0s 2ms/step - loss: 0.4321 - accuracy: 0.0000e+00\n",
      "Epoch 57/100\n",
      "6/6 [==============================] - 0s 2ms/step - loss: 0.4278 - accuracy: 0.0000e+00\n",
      "Epoch 58/100\n",
      "6/6 [==============================] - 0s 3ms/step - loss: 0.4237 - accuracy: 0.0000e+00\n",
      "Epoch 59/100\n",
      "6/6 [==============================] - 0s 2ms/step - loss: 0.4197 - accuracy: 0.0000e+00\n",
      "Epoch 60/100\n",
      "6/6 [==============================] - 0s 2ms/step - loss: 0.4159 - accuracy: 0.0000e+00\n",
      "Epoch 61/100\n",
      "6/6 [==============================] - 0s 2ms/step - loss: 0.4123 - accuracy: 0.0000e+00\n",
      "Epoch 62/100\n",
      "6/6 [==============================] - 0s 2ms/step - loss: 0.4089 - accuracy: 0.0000e+00\n",
      "Epoch 63/100\n",
      "6/6 [==============================] - 0s 2ms/step - loss: 0.4056 - accuracy: 0.0000e+00\n",
      "Epoch 64/100\n",
      "6/6 [==============================] - 0s 2ms/step - loss: 0.4024 - accuracy: 0.0000e+00\n",
      "Epoch 65/100\n",
      "6/6 [==============================] - 0s 2ms/step - loss: 0.3994 - accuracy: 0.0000e+00\n",
      "Epoch 66/100\n",
      "6/6 [==============================] - 0s 2ms/step - loss: 0.3965 - accuracy: 0.0000e+00\n",
      "Epoch 67/100\n",
      "6/6 [==============================] - 0s 2ms/step - loss: 0.3937 - accuracy: 0.0000e+00\n",
      "Epoch 68/100\n",
      "6/6 [==============================] - 0s 2ms/step - loss: 0.3911 - accuracy: 0.0000e+00\n",
      "Epoch 69/100\n",
      "6/6 [==============================] - 0s 2ms/step - loss: 0.3885 - accuracy: 0.0000e+00\n",
      "Epoch 70/100\n",
      "6/6 [==============================] - 0s 2ms/step - loss: 0.3861 - accuracy: 0.0000e+00\n",
      "Epoch 71/100\n",
      "6/6 [==============================] - 0s 3ms/step - loss: 0.3838 - accuracy: 0.0000e+00\n",
      "Epoch 72/100\n",
      "6/6 [==============================] - 0s 2ms/step - loss: 0.3815 - accuracy: 0.0000e+00\n",
      "Epoch 73/100\n",
      "6/6 [==============================] - 0s 2ms/step - loss: 0.3794 - accuracy: 0.0000e+00\n",
      "Epoch 74/100\n",
      "6/6 [==============================] - 0s 2ms/step - loss: 0.3774 - accuracy: 0.0000e+00\n",
      "Epoch 75/100\n",
      "6/6 [==============================] - 0s 2ms/step - loss: 0.3754 - accuracy: 0.0000e+00\n",
      "Epoch 76/100\n",
      "6/6 [==============================] - 0s 2ms/step - loss: 0.3736 - accuracy: 0.0000e+00\n",
      "Epoch 77/100\n",
      "6/6 [==============================] - 0s 2ms/step - loss: 0.3718 - accuracy: 0.0000e+00\n",
      "Epoch 78/100\n",
      "6/6 [==============================] - 0s 2ms/step - loss: 0.3701 - accuracy: 0.0000e+00\n",
      "Epoch 79/100\n",
      "6/6 [==============================] - 0s 2ms/step - loss: 0.3685 - accuracy: 0.0000e+00\n",
      "Epoch 80/100\n",
      "6/6 [==============================] - 0s 2ms/step - loss: 0.3669 - accuracy: 0.0000e+00\n",
      "Epoch 81/100\n"
     ]
    },
    {
     "name": "stdout",
     "output_type": "stream",
     "text": [
      "6/6 [==============================] - 0s 2ms/step - loss: 0.3654 - accuracy: 0.0000e+00\n",
      "Epoch 82/100\n",
      "6/6 [==============================] - 0s 2ms/step - loss: 0.3640 - accuracy: 0.0000e+00\n",
      "Epoch 83/100\n",
      "6/6 [==============================] - 0s 2ms/step - loss: 0.3626 - accuracy: 0.0000e+00\n",
      "Epoch 84/100\n",
      "6/6 [==============================] - 0s 2ms/step - loss: 0.3613 - accuracy: 0.0000e+00\n",
      "Epoch 85/100\n",
      "6/6 [==============================] - 0s 2ms/step - loss: 0.3600 - accuracy: 0.0000e+00\n",
      "Epoch 86/100\n",
      "6/6 [==============================] - 0s 2ms/step - loss: 0.3588 - accuracy: 0.0000e+00\n",
      "Epoch 87/100\n",
      "6/6 [==============================] - 0s 2ms/step - loss: 0.3576 - accuracy: 0.0000e+00\n",
      "Epoch 88/100\n",
      "6/6 [==============================] - 0s 2ms/step - loss: 0.3565 - accuracy: 0.0000e+00\n",
      "Epoch 89/100\n",
      "6/6 [==============================] - 0s 2ms/step - loss: 0.3555 - accuracy: 0.0000e+00\n",
      "Epoch 90/100\n",
      "6/6 [==============================] - 0s 2ms/step - loss: 0.3545 - accuracy: 0.0000e+00\n",
      "Epoch 91/100\n",
      "6/6 [==============================] - 0s 2ms/step - loss: 0.3535 - accuracy: 0.0000e+00\n",
      "Epoch 92/100\n",
      "6/6 [==============================] - 0s 2ms/step - loss: 0.3526 - accuracy: 0.0000e+00\n",
      "Epoch 93/100\n",
      "6/6 [==============================] - 0s 2ms/step - loss: 0.3517 - accuracy: 0.0000e+00\n",
      "Epoch 94/100\n",
      "6/6 [==============================] - 0s 2ms/step - loss: 0.3508 - accuracy: 0.0000e+00\n",
      "Epoch 95/100\n",
      "6/6 [==============================] - 0s 2ms/step - loss: 0.3500 - accuracy: 0.0000e+00\n",
      "Epoch 96/100\n",
      "6/6 [==============================] - 0s 2ms/step - loss: 0.3492 - accuracy: 0.0000e+00\n",
      "Epoch 97/100\n",
      "6/6 [==============================] - 0s 2ms/step - loss: 0.3484 - accuracy: 0.0000e+00\n",
      "Epoch 98/100\n",
      "6/6 [==============================] - 0s 2ms/step - loss: 0.3477 - accuracy: 0.0000e+00\n",
      "Epoch 99/100\n",
      "6/6 [==============================] - 0s 2ms/step - loss: 0.3470 - accuracy: 0.0000e+00\n",
      "Epoch 100/100\n",
      "6/6 [==============================] - 0s 2ms/step - loss: 0.3464 - accuracy: 0.0000e+00\n"
     ]
    },
    {
     "data": {
      "text/plain": [
       "<tensorflow.python.keras.callbacks.History at 0x158f420bdf0>"
      ]
     },
     "execution_count": 23,
     "metadata": {},
     "output_type": "execute_result"
    }
   ],
   "source": [
    "model.fit(study_time, score, epochs=100, batch_size=1, shuffle=False)"
   ]
  },
  {
   "cell_type": "markdown",
   "id": "authorized-example",
   "metadata": {},
   "source": [
    "모델 학습이 완료됨"
   ]
  },
  {
   "cell_type": "markdown",
   "id": "soviet-buying",
   "metadata": {},
   "source": [
    "<bs>"
   ]
  },
  {
   "cell_type": "code",
   "execution_count": 24,
   "id": "statutory-louis",
   "metadata": {},
   "outputs": [
    {
     "name": "stdout",
     "output_type": "stream",
     "text": [
      "예측결과: [[70.03967]]\n",
      "파라미터 수: 2\n"
     ]
    }
   ],
   "source": [
    "print('예측결과:', model.predict([7]))\n",
    "print('파라미터 수:', model.count_params())"
   ]
  },
  {
   "cell_type": "code",
   "execution_count": 25,
   "id": "bright-methodology",
   "metadata": {},
   "outputs": [],
   "source": [
    "# n = 6 --> 1, 2, 3, 4, 5, 6\n",
    "import random as r\n",
    "\n",
    "X1 = np.array([1, 2, 3, 4, 5, 6]) # 6개의 x데이터\n",
    "X2 = np.array([r.randint(1, 10) for i in range(6)])\n",
    "X3 = np.array([r.randint(1, 10) for i in range(6)])\n",
    "X4 = np.array([r.randint(1, 10) for i in range(6)])\n",
    "X5 = np.array([r.randint(1, 10) for i in range(6)])\n",
    "X6 = np.array([r.randint(1, 10) for i in range(6)])\n",
    "y = np.array([10, 21, 30, 40, 51, 60]) # 6개의 y데이터 예를 들어 이렇게 있을 때"
   ]
  },
  {
   "cell_type": "code",
   "execution_count": 26,
   "id": "defined-particle",
   "metadata": {},
   "outputs": [],
   "source": [
    "model = Sequential()\n",
    "model.add(Dense(1, input_dim=6, activation='linear'))"
   ]
  },
  {
   "cell_type": "code",
   "execution_count": 27,
   "id": "regulation-walnut",
   "metadata": {},
   "outputs": [],
   "source": [
    "sgd = optimizers.SGD(learning_rate=0.01)\n",
    "model.compile(optimizer=sgd, loss='mse', metrics=['accuracy'])"
   ]
  },
  {
   "cell_type": "code",
   "execution_count": 28,
   "id": "abandoned-provincial",
   "metadata": {},
   "outputs": [
    {
     "data": {
      "text/plain": [
       "7"
      ]
     },
     "execution_count": 28,
     "metadata": {},
     "output_type": "execute_result"
    }
   ],
   "source": [
    "model.count_params() # 왜 7이 나올까?"
   ]
  },
  {
   "cell_type": "markdown",
   "id": "liable-steal",
   "metadata": {},
   "source": [
    "<bs>"
   ]
  },
  {
   "cell_type": "markdown",
   "id": "addressed-channels",
   "metadata": {},
   "source": [
    "# boston 집값 예측"
   ]
  },
  {
   "cell_type": "markdown",
   "id": "violent-platinum",
   "metadata": {},
   "source": [
    "- 데이터 로드 및 train/test set 분리"
   ]
  },
  {
   "cell_type": "code",
   "execution_count": 1,
   "id": "identified-association",
   "metadata": {},
   "outputs": [],
   "source": [
    "from tensorflow.keras.datasets import boston_housing # 주택가격을 예측하는 건데 데이터에 이상한 값들이 많이 들어 있다\n",
    "\n",
    "(train_datas, train_targets), (test_datas, test_targets) = boston_housing.load_data()"
   ]
  },
  {
   "cell_type": "code",
   "execution_count": 2,
   "id": "operating-appendix",
   "metadata": {
    "scrolled": true
   },
   "outputs": [
    {
     "name": "stdout",
     "output_type": "stream",
     "text": [
      "(404, 13)\n",
      "(404,)\n"
     ]
    }
   ],
   "source": [
    "print(train_datas.shape)\n",
    "print(train_targets.shape)"
   ]
  },
  {
   "cell_type": "code",
   "execution_count": 3,
   "id": "conservative-novelty",
   "metadata": {},
   "outputs": [
    {
     "name": "stdout",
     "output_type": "stream",
     "text": [
      "(102, 13)\n",
      "(102,)\n"
     ]
    }
   ],
   "source": [
    "print(test_datas.shape)\n",
    "print(test_targets.shape)"
   ]
  },
  {
   "cell_type": "code",
   "execution_count": 4,
   "id": "north-charleston",
   "metadata": {
    "scrolled": false
   },
   "outputs": [
    {
     "name": "stdout",
     "output_type": "stream",
     "text": [
      "[15.2 42.3 50.  21.1 17.7 18.5 11.3 15.6 15.6 14.4 12.1 17.9 23.1 19.9\n",
      " 15.7  8.8 50.  22.5 24.1 27.5 10.9 30.8 32.9 24.  18.5 13.3 22.9 34.7\n",
      " 16.6 17.5 22.3 16.1 14.9 23.1 34.9 25.  13.9 13.1 20.4 20.  15.2 24.7\n",
      " 22.2 16.7 12.7 15.6 18.4 21.  30.1 15.1 18.7  9.6 31.5 24.8 19.1 22.\n",
      " 14.5 11.  32.  29.4 20.3 24.4 14.6 19.5 14.1 14.3 15.6 10.5  6.3 19.3\n",
      " 19.3 13.4 36.4 17.8 13.5 16.5  8.3 14.3 16.  13.4 28.6 43.5 20.2 22.\n",
      " 23.  20.7 12.5 48.5 14.6 13.4 23.7 50.  21.7 39.8 38.7 22.2 34.9 22.5\n",
      " 31.1 28.7 46.  41.7 21.  26.6 15.  24.4 13.3 21.2 11.7 21.7 19.4 50.\n",
      " 22.8 19.7 24.7 36.2 14.2 18.9 18.3 20.6 24.6 18.2  8.7 44.  10.4 13.2\n",
      " 21.2 37.  30.7 22.9 20.  19.3 31.7 32.  23.1 18.8 10.9 50.  19.6  5.\n",
      " 14.4 19.8 13.8 19.6 23.9 24.5 25.  19.9 17.2 24.6 13.5 26.6 21.4 11.9\n",
      " 22.6 19.6  8.5 23.7 23.1 22.4 20.5 23.6 18.4 35.2 23.1 27.9 20.6 23.7\n",
      " 28.  13.6 27.1 23.6 20.6 18.2 21.7 17.1  8.4 25.3 13.8 22.2 18.4 20.7\n",
      " 31.6 30.5 20.3  8.8 19.2 19.4 23.1 23.  14.8 48.8 22.6 33.4 21.1 13.6\n",
      " 32.2 13.1 23.4 18.9 23.9 11.8 23.3 22.8 19.6 16.7 13.4 22.2 20.4 21.8\n",
      " 26.4 14.9 24.1 23.8 12.3 29.1 21.  19.5 23.3 23.8 17.8 11.5 21.7 19.9\n",
      " 25.  33.4 28.5 21.4 24.3 27.5 33.1 16.2 23.3 48.3 22.9 22.8 13.1 12.7\n",
      " 22.6 15.  15.3 10.5 24.  18.5 21.7 19.5 33.2 23.2  5.  19.1 12.7 22.3\n",
      " 10.2 13.9 16.3 17.  20.1 29.9 17.2 37.3 45.4 17.8 23.2 29.  22.  18.\n",
      " 17.4 34.6 20.1 25.  15.6 24.8 28.2 21.2 21.4 23.8 31.  26.2 17.4 37.9\n",
      " 17.5 20.   8.3 23.9  8.4 13.8  7.2 11.7 17.1 21.6 50.  16.1 20.4 20.6\n",
      " 21.4 20.6 36.5  8.5 24.8 10.8 21.9 17.3 18.9 36.2 14.9 18.2 33.3 21.8\n",
      " 19.7 31.6 24.8 19.4 22.8  7.5 44.8 16.8 18.7 50.  50.  19.5 20.1 50.\n",
      " 17.2 20.8 19.3 41.3 20.4 20.5 13.8 16.5 23.9 20.6 31.5 23.3 16.8 14.\n",
      " 33.8 36.1 12.8 18.3 18.7 19.1 29.  30.1 50.  50.  22.  11.9 37.6 50.\n",
      " 22.7 20.8 23.5 27.9 50.  19.3 23.9 22.6 15.2 21.7 19.2 43.8 20.3 33.2\n",
      " 19.9 22.5 32.7 22.  17.1 19.  15.  16.1 25.1 23.7 28.7 37.2 22.6 16.4\n",
      " 25.  29.8 22.1 17.4 18.1 30.3 17.5 24.7 12.6 26.5 28.7 13.3 10.4 24.4\n",
      " 23.  20.  17.8  7.  11.8 24.4 13.8 19.4 25.2 19.4 19.4 29.1]\n"
     ]
    }
   ],
   "source": [
    "print(train_targets)"
   ]
  },
  {
   "cell_type": "markdown",
   "id": "orange-document",
   "metadata": {},
   "source": [
    "## 모델 생성"
   ]
  },
  {
   "cell_type": "code",
   "execution_count": 5,
   "id": "center-receipt",
   "metadata": {},
   "outputs": [],
   "source": [
    "from tensorflow.keras.models import Sequential\n",
    "from tensorflow.keras.layers import Dense\n",
    "import numpy as np\n",
    "\n",
    "model1 = Sequential()\n",
    "# Dense: 입력값과 출력값을 연결해줌\n",
    "model1.add(Dense(1, input_dim=13, activation='linear'))\n",
    "# add로 모델층을 sequential하게 생성"
   ]
  },
  {
   "cell_type": "markdown",
   "id": "harmful-antique",
   "metadata": {},
   "source": [
    "`예시: Dense(1, input_dim=13, init='uniform', activation='linear')`\n",
    "\n",
    "- 첫번째 인자 : 출력 뉴런의 수를 설정합니다.\n",
    "- input_dim : 입력 뉴런의 수를 설정합니다.\n",
    "- init : 가중치 초기화 방법 설정합니다.\n",
    "    - ‘uniform’ : 균일 분포\n",
    "    - ‘normal’ : 가우시안 분포\n",
    "- activation : 활성화 함수 설정합니다.\n",
    "    - ‘linear’ : 디폴트 값, 입력뉴런과 가중치로 계산된 결과값이 그대로 출력으로 나옵니다.\n",
    "    - ‘relu’ : rectifier 함수, 은닉층에 주로 쓰입니다.\n",
    "    - ‘sigmoid’ : 시그모이드 함수, 이진 분류 문제에서 출력층에 주로 쓰입니다.\n",
    "    - ‘softmax’ : 소프트맥스 함수, 다중 클래스 분류 문제에서 출력층에 주로 쓰입니다."
   ]
  },
  {
   "cell_type": "code",
   "execution_count": 6,
   "id": "behavioral-updating",
   "metadata": {},
   "outputs": [],
   "source": [
    "from tensorflow.keras import optimizers\n",
    "\n",
    "sgd = optimizers.SGD(learning_rate=0.01) # learning_rate: 학습률 SGD: 경사하강법의 종류\n",
    "model1.compile(optimizer='rmsprop', loss='mse', metrics=['accuracy'])"
   ]
  },
  {
   "cell_type": "code",
   "execution_count": 7,
   "id": "lightweight-schedule",
   "metadata": {},
   "outputs": [
    {
     "data": {
      "text/plain": [
       "14"
      ]
     },
     "execution_count": 7,
     "metadata": {},
     "output_type": "execute_result"
    }
   ],
   "source": [
    "model1.count_params()"
   ]
  },
  {
   "cell_type": "markdown",
   "id": "surface-fifth",
   "metadata": {},
   "source": [
    "# data scaling"
   ]
  },
  {
   "attachments": {
    "image.png": {
     "image/png": "[encoded data removed]"
    }
   },
   "cell_type": "markdown",
   "id": "chubby-lingerie",
   "metadata": {},
   "source": [
    "![image.png](attachment:image.png)"
   ]
  },
  {
   "cell_type": "code",
   "execution_count": 8,
   "id": "falling-protein",
   "metadata": {
    "scrolled": true
   },
   "outputs": [],
   "source": [
    "mean = train_datas.mean(axis=0) # 각 행의 평균을 더함\n",
    "train_datas -= mean\n",
    "std = train_datas.std(axis=0)\n",
    "train_datas /= std # 이렇게 하면 표준화가 완료\n",
    "\n",
    "test_datas -= mean\n",
    "test_datas /= std"
   ]
  },
  {
   "cell_type": "code",
   "execution_count": 14,
   "id": "advance-graduation",
   "metadata": {
    "scrolled": false
   },
   "outputs": [
    {
     "data": {
      "text/plain": [
       "2.602301889250862e-15"
      ]
     },
     "execution_count": 14,
     "metadata": {},
     "output_type": "execute_result"
    }
   ],
   "source": [
    "# train_datas.std()\n",
    "train_datas.mean()"
   ]
  },
  {
   "cell_type": "code",
   "execution_count": 10,
   "id": "desperate-flashing",
   "metadata": {},
   "outputs": [],
   "source": [
    "from tensorflow.keras import backend as K\n",
    "K.clear_session()"
   ]
  },
  {
   "cell_type": "code",
   "execution_count": 11,
   "id": "digital-update",
   "metadata": {
    "scrolled": false
   },
   "outputs": [
    {
     "name": "stdout",
     "output_type": "stream",
     "text": [
      "Epoch 1/100\n",
      "404/404 [==============================] - 1s 2ms/step - loss: 572.4506 - accuracy: 0.0000e+00\n",
      "Epoch 2/100\n",
      "404/404 [==============================] - 1s 2ms/step - loss: 551.3260 - accuracy: 0.0000e+00\n",
      "Epoch 3/100\n",
      "404/404 [==============================] - 1s 2ms/step - loss: 531.2243 - accuracy: 0.0000e+00\n",
      "Epoch 4/100\n",
      "404/404 [==============================] - 1s 1ms/step - loss: 512.0112 - accuracy: 0.0000e+00\n",
      "Epoch 5/100\n",
      "404/404 [==============================] - 1s 2ms/step - loss: 493.5910 - accuracy: 0.0000e+00\n",
      "Epoch 6/100\n",
      "404/404 [==============================] - 1s 2ms/step - loss: 475.8828 - accuracy: 0.0000e+00: 0s - loss: 484.0890 - accuracy: 0.0000e+\n",
      "Epoch 7/100\n",
      "404/404 [==============================] - 1s 2ms/step - loss: 458.8196 - accuracy: 0.0000e+00\n",
      "Epoch 8/100\n",
      "404/404 [==============================] - 1s 1ms/step - loss: 442.3458 - accuracy: 0.0000e+00\n",
      "Epoch 9/100\n",
      "404/404 [==============================] - 1s 2ms/step - loss: 426.4153 - accuracy: 0.0000e+00\n",
      "Epoch 10/100\n",
      "404/404 [==============================] - 1s 2ms/step - loss: 410.9884 - accuracy: 0.0000e+00\n",
      "Epoch 11/100\n",
      "404/404 [==============================] - 1s 2ms/step - loss: 396.0330 - accuracy: 0.0000e+00\n",
      "Epoch 12/100\n",
      "404/404 [==============================] - 1s 2ms/step - loss: 381.5222 - accuracy: 0.0000e+00\n",
      "Epoch 13/100\n",
      "404/404 [==============================] - 1s 2ms/step - loss: 367.4333 - accuracy: 0.0000e+00: 0s - loss: 354.7872 - accu\n",
      "Epoch 14/100\n",
      "404/404 [==============================] - 1s 2ms/step - loss: 353.7465 - accuracy: 0.0000e+00\n",
      "Epoch 15/100\n",
      "404/404 [==============================] - 1s 2ms/step - loss: 340.4465 - accuracy: 0.0000e+00\n",
      "Epoch 16/100\n",
      "404/404 [==============================] - 1s 2ms/step - loss: 327.5198 - accuracy: 0.0000e+00\n",
      "Epoch 17/100\n",
      "404/404 [==============================] - 1s 2ms/step - loss: 314.9546 - accuracy: 0.0000e+00\n",
      "Epoch 18/100\n",
      "404/404 [==============================] - 1s 2ms/step - loss: 302.7416 - accuracy: 0.0000e+00\n",
      "Epoch 19/100\n",
      "404/404 [==============================] - 1s 1ms/step - loss: 290.8726 - accuracy: 0.0000e+00\n",
      "Epoch 20/100\n",
      "404/404 [==============================] - 1s 2ms/step - loss: 279.3407 - accuracy: 0.0000e+00\n",
      "Epoch 21/100\n",
      "404/404 [==============================] - 1s 2ms/step - loss: 268.1401 - accuracy: 0.0000e+00\n",
      "Epoch 22/100\n",
      "404/404 [==============================] - 1s 2ms/step - loss: 257.2650 - accuracy: 0.0000e+00\n",
      "Epoch 23/100\n",
      "404/404 [==============================] - 1s 2ms/step - loss: 246.7116 - accuracy: 0.0000e+00\n",
      "Epoch 24/100\n",
      "404/404 [==============================] - 1s 2ms/step - loss: 236.4754 - accuracy: 0.0000e+00\n",
      "Epoch 25/100\n",
      "404/404 [==============================] - 1s 2ms/step - loss: 226.5524 - accuracy: 0.0000e+00\n",
      "Epoch 26/100\n",
      "404/404 [==============================] - 1s 2ms/step - loss: 216.9396 - accuracy: 0.0000e+00\n",
      "Epoch 27/100\n",
      "404/404 [==============================] - 1s 2ms/step - loss: 207.6333 - accuracy: 0.0000e+00\n",
      "Epoch 28/100\n",
      "404/404 [==============================] - 1s 1ms/step - loss: 198.6311 - accuracy: 0.0000e+00\n",
      "Epoch 29/100\n",
      "404/404 [==============================] - 1s 2ms/step - loss: 189.9296 - accuracy: 0.0000e+00\n",
      "Epoch 30/100\n",
      "404/404 [==============================] - 1s 2ms/step - loss: 181.5260 - accuracy: 0.0000e+00\n",
      "Epoch 31/100\n",
      "404/404 [==============================] - 1s 2ms/step - loss: 173.4174 - accuracy: 0.0000e+00\n",
      "Epoch 32/100\n",
      "404/404 [==============================] - 1s 2ms/step - loss: 165.6007 - accuracy: 0.0000e+00\n",
      "Epoch 33/100\n",
      "404/404 [==============================] - 1s 2ms/step - loss: 158.0732 - accuracy: 0.0000e+00\n",
      "Epoch 34/100\n",
      "404/404 [==============================] - 1s 2ms/step - loss: 150.8315 - accuracy: 0.0000e+00\n",
      "Epoch 35/100\n",
      "404/404 [==============================] - 1s 2ms/step - loss: 143.8725 - accuracy: 0.0000e+00\n",
      "Epoch 36/100\n",
      "404/404 [==============================] - 1s 2ms/step - loss: 137.1929 - accuracy: 0.0000e+00\n",
      "Epoch 37/100\n",
      "404/404 [==============================] - 1s 2ms/step - loss: 130.7889 - accuracy: 0.0000e+00\n",
      "Epoch 38/100\n",
      "404/404 [==============================] - 1s 2ms/step - loss: 124.6572 - accuracy: 0.0000e+00\n",
      "Epoch 39/100\n",
      "404/404 [==============================] - 1s 2ms/step - loss: 118.7935 - accuracy: 0.0000e+00\n",
      "Epoch 40/100\n",
      "404/404 [==============================] - 1s 2ms/step - loss: 113.1938 - accuracy: 0.0000e+00\n",
      "Epoch 41/100\n",
      "404/404 [==============================] - 1s 2ms/step - loss: 107.8538 - accuracy: 0.0000e+00\n",
      "Epoch 42/100\n",
      "404/404 [==============================] - 1s 2ms/step - loss: 102.7689 - accuracy: 0.0000e+00\n",
      "Epoch 43/100\n",
      "404/404 [==============================] - 1s 2ms/step - loss: 97.9342 - accuracy: 0.0000e+00\n",
      "Epoch 44/100\n",
      "404/404 [==============================] - 1s 1ms/step - loss: 93.3445 - accuracy: 0.0000e+00\n",
      "Epoch 45/100\n",
      "404/404 [==============================] - 1s 2ms/step - loss: 88.9947 - accuracy: 0.0000e+00\n",
      "Epoch 46/100\n",
      "404/404 [==============================] - 1s 2ms/step - loss: 84.8789 - accuracy: 0.0000e+00\n",
      "Epoch 47/100\n",
      "404/404 [==============================] - 1s 2ms/step - loss: 80.9913 - accuracy: 0.0000e+00\n",
      "Epoch 48/100\n",
      "404/404 [==============================] - 1s 1ms/step - loss: 77.3253 - accuracy: 0.0000e+00\n",
      "Epoch 49/100\n",
      "404/404 [==============================] - 1s 2ms/step - loss: 73.8743 - accuracy: 0.0000e+00\n",
      "Epoch 50/100\n",
      "404/404 [==============================] - 1s 2ms/step - loss: 70.6309 - accuracy: 0.0000e+00\n",
      "Epoch 51/100\n",
      "404/404 [==============================] - 1s 2ms/step - loss: 67.5883 - accuracy: 0.0000e+00\n",
      "Epoch 52/100\n",
      "404/404 [==============================] - 1s 2ms/step - loss: 64.7388 - accuracy: 0.0000e+00\n",
      "Epoch 53/100\n",
      "404/404 [==============================] - 1s 2ms/step - loss: 62.0745 - accuracy: 0.0000e+00\n",
      "Epoch 54/100\n",
      "404/404 [==============================] - 1s 2ms/step - loss: 59.5869 - accuracy: 0.0000e+00\n",
      "Epoch 55/100\n",
      "404/404 [==============================] - 1s 2ms/step - loss: 57.2680 - accuracy: 0.0000e+00\n",
      "Epoch 56/100\n",
      "404/404 [==============================] - 1s 2ms/step - loss: 55.1090 - accuracy: 0.0000e+00\n",
      "Epoch 57/100\n",
      "404/404 [==============================] - 1s 2ms/step - loss: 53.1011 - accuracy: 0.0000e+00\n",
      "Epoch 58/100\n",
      "404/404 [==============================] - 1s 2ms/step - loss: 51.2355 - accuracy: 0.0000e+00\n",
      "Epoch 59/100\n",
      "404/404 [==============================] - 1s 2ms/step - loss: 49.5037 - accuracy: 0.0000e+00\n",
      "Epoch 60/100\n",
      "404/404 [==============================] - 1s 2ms/step - loss: 47.8968 - accuracy: 0.0000e+00\n",
      "Epoch 61/100\n",
      "404/404 [==============================] - 1s 2ms/step - loss: 46.4067 - accuracy: 0.0000e+00\n",
      "Epoch 62/100\n",
      "404/404 [==============================] - 1s 2ms/step - loss: 45.0249 - accuracy: 0.0000e+00\n",
      "Epoch 63/100\n",
      "404/404 [==============================] - 1s 1ms/step - loss: 43.7437 - accuracy: 0.0000e+00\n",
      "Epoch 64/100\n",
      "404/404 [==============================] - 1s 2ms/step - loss: 42.5553 - accuracy: 0.0000e+00\n",
      "Epoch 65/100\n",
      "404/404 [==============================] - 1s 2ms/step - loss: 41.4527 - accuracy: 0.0000e+00\n",
      "Epoch 66/100\n",
      "404/404 [==============================] - 1s 2ms/step - loss: 40.4292 - accuracy: 0.0000e+00\n",
      "Epoch 67/100\n",
      "404/404 [==============================] - 1s 2ms/step - loss: 39.4782 - accuracy: 0.0000e+00\n",
      "Epoch 68/100\n",
      "404/404 [==============================] - 1s 2ms/step - loss: 38.5940 - accuracy: 0.0000e+00\n",
      "Epoch 69/100\n",
      "404/404 [==============================] - 1s 2ms/step - loss: 37.7709 - accuracy: 0.0000e+00\n",
      "Epoch 70/100\n",
      "404/404 [==============================] - 1s 2ms/step - loss: 37.0039 - accuracy: 0.0000e+00\n",
      "Epoch 71/100\n",
      "404/404 [==============================] - 1s 2ms/step - loss: 36.2884 - accuracy: 0.0000e+00\n",
      "Epoch 72/100\n",
      "404/404 [==============================] - 1s 2ms/step - loss: 35.6201 - accuracy: 0.0000e+00\n",
      "Epoch 73/100\n",
      "404/404 [==============================] - 1s 2ms/step - loss: 34.9950 - accuracy: 0.0000e+00\n",
      "Epoch 74/100\n",
      "404/404 [==============================] - 1s 2ms/step - loss: 34.4097 - accuracy: 0.0000e+00\n",
      "Epoch 75/100\n",
      "404/404 [==============================] - 1s 2ms/step - loss: 33.8608 - accuracy: 0.0000e+00\n",
      "Epoch 76/100\n"
     ]
    },
    {
     "name": "stdout",
     "output_type": "stream",
     "text": [
      "404/404 [==============================] - 1s 2ms/step - loss: 33.3454 - accuracy: 0.0000e+00\n",
      "Epoch 77/100\n",
      "404/404 [==============================] - 1s 1ms/step - loss: 32.8608 - accuracy: 0.0000e+00\n",
      "Epoch 78/100\n",
      "404/404 [==============================] - 1s 2ms/step - loss: 32.4048 - accuracy: 0.0000e+00\n",
      "Epoch 79/100\n",
      "404/404 [==============================] - 1s 2ms/step - loss: 31.9751 - accuracy: 0.0000e+00\n",
      "Epoch 80/100\n",
      "404/404 [==============================] - 1s 2ms/step - loss: 31.5700 - accuracy: 0.0000e+00\n",
      "Epoch 81/100\n",
      "404/404 [==============================] - 1s 2ms/step - loss: 31.1876 - accuracy: 0.0000e+00 0s - loss: 84.9508 - accurac\n",
      "Epoch 82/100\n",
      "404/404 [==============================] - 1s 2ms/step - loss: 30.8266 - accuracy: 0.0000e+00\n",
      "Epoch 83/100\n",
      "404/404 [==============================] - 1s 1ms/step - loss: 30.4856 - accuracy: 0.0000e+00\n",
      "Epoch 84/100\n",
      "404/404 [==============================] - 1s 2ms/step - loss: 30.1632 - accuracy: 0.0000e+00\n",
      "Epoch 85/100\n",
      "404/404 [==============================] - 1s 2ms/step - loss: 29.8583 - accuracy: 0.0000e+00\n",
      "Epoch 86/100\n",
      "404/404 [==============================] - 1s 2ms/step - loss: 29.5697 - accuracy: 0.0000e+00\n",
      "Epoch 87/100\n",
      "404/404 [==============================] - 1s 2ms/step - loss: 29.2965 - accuracy: 0.0000e+00\n",
      "Epoch 88/100\n",
      "404/404 [==============================] - 1s 2ms/step - loss: 29.0378 - accuracy: 0.0000e+00\n",
      "Epoch 89/100\n",
      "404/404 [==============================] - 1s 2ms/step - loss: 28.7925 - accuracy: 0.0000e+00\n",
      "Epoch 90/100\n",
      "404/404 [==============================] - 1s 2ms/step - loss: 28.5599 - accuracy: 0.0000e+00\n",
      "Epoch 91/100\n",
      "404/404 [==============================] - 1s 2ms/step - loss: 28.3391 - accuracy: 0.0000e+00\n",
      "Epoch 92/100\n",
      "404/404 [==============================] - 1s 2ms/step - loss: 28.1296 - accuracy: 0.0000e+00\n",
      "Epoch 93/100\n",
      "404/404 [==============================] - 1s 2ms/step - loss: 27.9305 - accuracy: 0.0000e+00\n",
      "Epoch 94/100\n",
      "404/404 [==============================] - 1s 2ms/step - loss: 27.7413 - accuracy: 0.0000e+00\n",
      "Epoch 95/100\n",
      "404/404 [==============================] - 1s 2ms/step - loss: 27.5614 - accuracy: 0.0000e+00\n",
      "Epoch 96/100\n",
      "404/404 [==============================] - 1s 2ms/step - loss: 27.3903 - accuracy: 0.0000e+00\n",
      "Epoch 97/100\n",
      "404/404 [==============================] - 1s 2ms/step - loss: 27.2275 - accuracy: 0.0000e+00\n",
      "Epoch 98/100\n",
      "404/404 [==============================] - 1s 2ms/step - loss: 27.0726 - accuracy: 0.0000e+00\n",
      "Epoch 99/100\n",
      "404/404 [==============================] - 1s 2ms/step - loss: 26.9251 - accuracy: 0.0000e+00\n",
      "Epoch 100/100\n",
      "404/404 [==============================] - 1s 2ms/step - loss: 26.7847 - accuracy: 0.0000e+00\n"
     ]
    },
    {
     "data": {
      "text/plain": [
       "<tensorflow.python.keras.callbacks.History at 0x1c1adb8dd60>"
      ]
     },
     "execution_count": 11,
     "metadata": {},
     "output_type": "execute_result"
    }
   ],
   "source": [
    "model1.fit(train_datas, train_targets, epochs=100, batch_size=1, shuffle=False)"
   ]
  },
  {
   "cell_type": "code",
   "execution_count": 12,
   "id": "gorgeous-empty",
   "metadata": {},
   "outputs": [
    {
     "data": {
      "text/plain": [
       "[19.85296630859375, 0.0]"
      ]
     },
     "execution_count": 12,
     "metadata": {},
     "output_type": "execute_result"
    }
   ],
   "source": [
    "model1.evaluate(test_datas, test_targets, verbose=0)"
   ]
  },
  {
   "cell_type": "code",
   "execution_count": 13,
   "id": "personal-flashing",
   "metadata": {
    "scrolled": true
   },
   "outputs": [
    {
     "name": "stdout",
     "output_type": "stream",
     "text": [
      "예측결과: [[ 7.318431 ]\n",
      " [21.504692 ]\n",
      " [21.747858 ]\n",
      " [28.513552 ]\n",
      " [25.354584 ]\n",
      " [21.542995 ]\n",
      " [28.859655 ]\n",
      " [24.485899 ]\n",
      " [18.060617 ]\n",
      " [22.106192 ]\n",
      " [19.785843 ]\n",
      " [19.38522  ]\n",
      " [17.49494  ]\n",
      " [34.97201  ]\n",
      " [16.949728 ]\n",
      " [20.93972  ]\n",
      " [24.761902 ]\n",
      " [23.960999 ]\n",
      " [19.522312 ]\n",
      " [20.798254 ]\n",
      " [ 9.918771 ]\n",
      " [13.489399 ]\n",
      " [22.125803 ]\n",
      " [14.362801 ]\n",
      " [21.488785 ]\n",
      " [22.566572 ]\n",
      " [28.012121 ]\n",
      " [24.843893 ]\n",
      " [11.871592 ]\n",
      " [21.903282 ]\n",
      " [24.266825 ]\n",
      " [16.342178 ]\n",
      " [29.580158 ]\n",
      " [23.573954 ]\n",
      " [17.188728 ]\n",
      " [ 4.0914593]\n",
      " [17.080849 ]\n",
      " [22.125307 ]\n",
      " [19.261024 ]\n",
      " [26.710484 ]\n",
      " [24.951782 ]\n",
      " [28.37234  ]\n",
      " [18.01194  ]\n",
      " [34.469124 ]\n",
      " [30.051683 ]\n",
      " [23.95211  ]\n",
      " [28.292515 ]\n",
      " [19.0627   ]\n",
      " [23.584774 ]\n",
      " [24.007538 ]\n",
      " [29.185194 ]\n",
      " [19.05264  ]\n",
      " [ 9.701149 ]\n",
      " [15.157959 ]\n",
      " [33.411015 ]\n",
      " [27.63258  ]\n",
      " [17.126953 ]\n",
      " [39.15773  ]\n",
      " [30.424261 ]\n",
      " [25.235832 ]\n",
      " [25.26264  ]\n",
      " [20.270622 ]\n",
      " [17.16486  ]\n",
      " [22.317509 ]\n",
      " [25.280083 ]\n",
      " [23.799562 ]\n",
      " [17.571136 ]\n",
      " [25.534986 ]\n",
      " [ 6.589058 ]\n",
      " [10.068951 ]\n",
      " [21.322521 ]\n",
      " [26.257942 ]\n",
      " [22.138443 ]\n",
      " [11.203045 ]\n",
      " [27.26319  ]\n",
      " [22.398106 ]\n",
      " [21.601812 ]\n",
      " [24.661674 ]\n",
      " [32.502934 ]\n",
      " [ 5.7934628]\n",
      " [23.830017 ]\n",
      " [36.371864 ]\n",
      " [17.285686 ]\n",
      " [18.634068 ]\n",
      " [21.213196 ]\n",
      " [20.19452  ]\n",
      " [20.313997 ]\n",
      " [20.435081 ]\n",
      " [24.198366 ]\n",
      " [27.689014 ]\n",
      " [18.090239 ]\n",
      " [19.545013 ]\n",
      " [26.443943 ]\n",
      " [31.245598 ]\n",
      " [32.804554 ]\n",
      " [23.362736 ]\n",
      " [35.55533  ]\n",
      " [34.927284 ]\n",
      " [25.336206 ]\n",
      " [36.574673 ]\n",
      " [28.881138 ]\n",
      " [24.299376 ]]\n",
      "4/4 [==============================] - 0s 3ms/step - loss: 19.8530 - accuracy: 0.0000e+00\n"
     ]
    },
    {
     "data": {
      "text/plain": [
       "[19.85296630859375, 0.0]"
      ]
     },
     "execution_count": 13,
     "metadata": {},
     "output_type": "execute_result"
    }
   ],
   "source": [
    "print('예측결과:', model1.predict(test_datas))\n",
    "model1.evaluate(test_datas, test_targets)"
   ]
  },
  {
   "cell_type": "code",
   "execution_count": null,
   "id": "bigger-tiger",
   "metadata": {},
   "outputs": [],
   "source": []
  }
 ],
 "metadata": {
  "kernelspec": {
   "display_name": "Python 3",
   "language": "python",
   "name": "python3"
  },
  "language_info": {
   "codemirror_mode": {
    "name": "ipython",
    "version": 3
   },
   "file_extension": ".py",
   "mimetype": "text/x-python",
   "name": "python",
   "nbconvert_exporter": "python",
   "pygments_lexer": "ipython3",
   "version": "3.8.5"
  }
 },
 "nbformat": 4,
 "nbformat_minor": 5
}
